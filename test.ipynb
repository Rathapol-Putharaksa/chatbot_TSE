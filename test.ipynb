{
 "cells": [
  {
   "cell_type": "code",
   "execution_count": 1,
   "metadata": {},
   "outputs": [],
   "source": [
    "import requests\n",
    "import json\n",
    "FIREBASE_HOST =\"datacenter-3975d-default-rtdb.asia-southeast1.firebasedatabase.app\"\n",
    "FIREBASE_AUTH= \"7sWhgxLOBU37yOo3swUAIGWvuEhcbRzp1kvm7TwC\"\n"
   ]
  },
  {
   "cell_type": "code",
   "execution_count": 23,
   "metadata": {},
   "outputs": [],
   "source": [
    "link = \"https://{}/.json?auth={}\".format(FIREBASE_HOST,FIREBASE_AUTH)\n",
    "response = requests.get(link)"
   ]
  },
  {
   "cell_type": "code",
   "execution_count": 24,
   "metadata": {},
   "outputs": [
    {
     "data": {
      "text/plain": [
       "{'baimon': {'Bangkok': {'Humidity': 82, 'Temperature': 37.3},\n",
       "  'Phichit': {'Humidity': 73, 'Temperature': 35.3},\n",
       "  'Prachinburi': {'Humidity': 74, 'Temperature': 33.3},\n",
       "  'Rayong': {'Humidity': 68, 'Temperature': 38.3},\n",
       "  'Trat': {'Humidity': 78, 'Temperature': 35.3}},\n",
       " 'dave': {'Ang Thong': {'Humidity': 82, 'Temperature': 32.3},\n",
       "  'Bangkok': {'Humidity': 78, 'Temperature': 31.3},\n",
       "  'Chai Nat': {'Humidity': 70, 'Temperature': 36.3},\n",
       "  'Lopburi': {'Humidity': 70, 'Temperature': 39.3},\n",
       "  'Udon Thani': {'Humidity': 70, 'Temperature': 39.3}},\n",
       " 'nice': {'Bangkok': {'Humidity': 75, 'Temperature': 39.3},\n",
       "  'Chonburi': {'Humidity': 72, 'Temperature': 32.3},\n",
       "  'Lampang': {'Humidity': 71, 'Temperature': 37.3},\n",
       "  'Lamphun': {'Humidity': 76, 'Temperature': 32.3},\n",
       "  'Nan': {'Humidity': 76, 'Temperature': 37.3}}}"
      ]
     },
     "execution_count": 24,
     "metadata": {},
     "output_type": "execute_result"
    }
   ],
   "source": [
    "response.json()"
   ]
  },
  {
   "cell_type": "code",
   "execution_count": 15,
   "metadata": {},
   "outputs": [
    {
     "data": {
      "text/plain": [
       "62.7"
      ]
     },
     "execution_count": 15,
     "metadata": {},
     "output_type": "execute_result"
    }
   ],
   "source": [
    "response.json()['Lampang']['dave'][\"Humidity\"]"
   ]
  },
  {
   "cell_type": "code",
   "execution_count": 5,
   "metadata": {},
   "outputs": [],
   "source": [
    "from flask import Flask, request\n",
    "from linebot.models import *\n",
    "from linebot import *\n",
    "import requests\n",
    "import pandas as pd \n",
    "import json\n",
    "df = pd.read_excel(\"tep_tepe.xlsx\")\n",
    "df2 = df.set_index('คำถาม')\n",
    "json_str = df2.to_json(orient='index',force_ascii=False)\n",
    "json_data = json.loads(json_str)"
   ]
  },
  {
   "cell_type": "code",
   "execution_count": 6,
   "metadata": {},
   "outputs": [
    {
     "data": {
      "text/plain": [
       "{'คืออะไร': {'TEP': 'TEP หรือ Twinning Engineering Program จัดการเรียนการสอนเป็นภาษาอังกฤษแบบ Double Degree ภายใต้ความร่วมมือกับมหาวิทยาลัยชั้นนำที่ติดอันดับ TOP 100 ของโลก ถึง 3 แห่ง คือ The University of Nottingham ประเทศอังกฤษ UNSW, Sydney ประเทศออสเตรเลีย และ KU Leuven ประเทศเบลเยี่ยม โดยธรรมศาสตร์เป็นสถาบันการศึกษาแห่งแรกที่ก่อตั้งหลักสูตร Double Degree น้อง ๆ ที่เลือกเรียนหลักสูตร TEP จะได้เรียน 2 ปีแรกที่คณะวิศวกรรมศาสตร์ มหาวิทยาลัยธรรมศาสตร์ ศูนย์รังสิต จากนั้นในช่วง 2 ปีหลังจะไปเรียนกันที่ต่างประเทศ ในมหาวิทยาลัยคู่สัญญาที่น้อง ๆ เลือกไปศึกษาต่อ และที่สำคัญน้อง ๆ ที่จบจากหลักสูตรนี้จะได้รับปริญญาถึง 2 ใบเลยทีเดียว',\n",
       "  'TEPE': 'TEPE หรือ Thammasat English Program of Engineering เป็นอีกหนึ่งหลักสูตรอินเตอร์ของ TSE จัดการเรียนการสอน ณ คณะวิศวกรรมศาสตร์ มธ.  สอนโดยคณาจารย์ผู้ทรงคุณวุฒิ พร้อมด้วยอุปกรณ์การเรียนรู้ทางด้านปฏิบัติการที่ส่งเสริมให้น้อง ๆ มีความรู้ ความสามารถ ทัดเทียมในระดับนานาชาติ นอกจากนี้ทางคณะยังส่งเสริมให้นักศึกษามีประสบการณ์ต่างประเทศอีกด้วย ไม่ว่าจะเป็นโครงการฝึกงานต่างประเทศ หรือ โครงการนักศึกษาแลกเปลี่ยนด้วย หลักสูตรนี้จะเรียนที่คณะวิศวกรรมศาสตร์ มธ.เป็นเวลา 4 ปี ',\n",
       "  'Unnamed: 3': None},\n",
       " 'รับสมัคร': {'TEP': 'เปิดรับสมัคร 4 รอบ\\nรอบ TCAS 1.2 Portfolio \\t     \\t15 ธ.ค. 64 – 10 ม.ค. 65\\nรอบ Inter Program Admission 1\\t1 – 23 มี.ค. 65 \\nรอบ TCAS 3 Admission\\t     \\t2 - 10 พ.ค. 65\\nรอบ Inter Program Admission 2 \\t25 เม.ย. – 13 พ.ค. 65\\nสามารถดูรายละเอียดการรับสมัครเพิ่มเติมได้ที่ https://tep.engr.tu.ac.th/admission',\n",
       "  'TEPE': 'เปิดรับสมัคร 4 รอบ\\nรอบ TCAS 1.2 Portfolio \\t     \\t15 ธ.ค. 64 – 10 ม.ค. 65\\nรอบ Inter Program Admission 1\\t1 – 23 มี.ค. 65 \\nรอบ TCAS 3 Admission\\t     \\t2 - 10 พ.ค. 65\\nรอบ Inter Program Admission 2 \\t25 เม.ย. – 13 พ.ค. 65\\nสามารถดูรายละเอียดการรับสมัครเพิ่มเติมได้ที่ https://tep.engr.tu.ac.th/admission',\n",
       "  'Unnamed: 3': None},\n",
       " 'รับกี่คน': {'TEP': 'รอบ TCAS 1.2 Portfolio \\t     \\t\\tTEP 30 คน \\tTEPE 15 คน\\nรอบ Inter Program Admission 1\\t\\tTEP 30 คน\\tTEPE 20 คน\\nรอบ TCAS 3 Admission\\t\\t\\tTEP 30 คน\\tTEPE 20 คน    \\nรอบ Inter Program Admission 2\\t\\tTEP 12 คน\\tTEPE 5 คน',\n",
       "  'TEPE': 'รอบ TCAS 1.2 Portfolio \\t     \\t\\tTEP 30 คน \\tTEPE 15 คน\\nรอบ Inter Program Admission 1\\t\\tTEP 30 คน\\tTEPE 20 คน\\nรอบ TCAS 3 Admission\\t\\t\\tTEP 30 คน\\tTEPE 20 คน    \\nรอบ Inter Program Admission 2\\t\\tTEP 12 คน\\tTEPE 5 คน',\n",
       "  'Unnamed: 3': None},\n",
       " 'คะแนน': {'TEP': 'การสมัครจะเลือกได้ทั้งหมด 3 Tracks ดังนี้ (เลือกได้ 1 รูปแบบเท่านั้น ต่อการสมัคร 1 หลักสูตร)\\nTrack 1 ยื่นผลคะแนนภาษาอังกฤษ + แฟ้มสะสมผลงาน (Portfolio) ทางด้านวิทยาศาสตร์ คณิตศาสตร์ เทคโนโลยี และวิศวกรรมศาสตร์ + จดหมายแนะนำตัว (Statement of Purpose)\\nTrack 2 ยื่นผลคะแนนภาษาอังกฤษ + ใบรายงานผลการเรียน (Transcript) ชั้นมัธยมปลายหรือเทียบเท่าทั้งในและต่างประเทศ ไม่น้อยกว่า 5 ภาคการศึกษา โดยเกรดเฉลี่ยในกลุ่มสาระการเรียนรู้วิทยาศาสตร์และคณิตศาสตร์ไม่ต่ำกว่า 2.75 หรือเทียบเท่า (เหมาะกับผู้สมัครที่ไม่พอร์ต)\\nTrack 3 ยื่นผลคะแนนภาษาอังกฤษ + ผลคะแนนมาตรฐานสากล (เลือกอย่างใดอย่างหนึ่ง) ได้แก่ SAT, IB Diploma, ACT, GCE ‘A Level’, GED, GSAT, PAT1 (เหมาะกับผู้สมัครที่ไม่พอร์ต)\\nคะแนนที่ใช้สมัครดูได้ที่  https://tep.engr.tu.ac.th/admission/domesticappliances',\n",
       "  'TEPE': 'การสมัครจะเลือกได้ทั้งหมด 3 Tracks ดังนี้ (เลือกได้ 1 รูปแบบเท่านั้น ต่อการสมัคร 1 หลักสูตร)\\nTrack 1 ยื่นผลคะแนนภาษาอังกฤษ + แฟ้มสะสมผลงาน (Portfolio) ทางด้านวิทยาศาสตร์ คณิตศาสตร์ เทคโนโลยี และวิศวกรรมศาสตร์ + จดหมายแนะนำตัว (Statement of Purpose)\\nTrack 2 ยื่นผลคะแนนภาษาอังกฤษ + ใบรายงานผลการเรียน (Transcript) ชั้นมัธยมปลายหรือเทียบเท่าทั้งในและต่างประเทศ ไม่น้อยกว่า 5 ภาคการศึกษา โดยเกรดเฉลี่ยในกลุ่มสาระการเรียนรู้วิทยาศาสตร์และคณิตศาสตร์ไม่ต่ำกว่า 2.75 หรือเทียบเท่า (เหมาะกับผู้สมัครที่ไม่พอร์ต)\\nTrack 3 ยื่นผลคะแนนภาษาอังกฤษ + ผลคะแนนมาตรฐานสากล (เลือกอย่างใดอย่างหนึ่ง) ได้แก่ SAT, IB Diploma, ACT, GCE ‘A Level’, GED, GSAT, PAT1 (เหมาะกับผู้สมัครที่ไม่พอร์ต)\\nคะแนนที่ใช้สมัครดูได้ที่  https://tep.engr.tu.ac.th/admission/domesticappliances',\n",
       "  'Unnamed: 3': None},\n",
       " 'ปวช/ปวส': {'TEP': 'รับวุฒิ ปวช. โดยสมัครได้ในรอบ Inter Admission 1 หรือ Inter Admission 2 เท่านั้น',\n",
       "  'TEPE': 'รับวุฒิ ปวช. โดยสมัครได้ในรอบ Inter Admission 1 หรือ Inter Admission 2 เท่านั้น',\n",
       "  'Unnamed: 3': None},\n",
       " 'สมัคร': {'TEP': 'รอบ Inter Portfolio 1 \\nรอบ Inter Program Admission 1\\nรอบ Inter Program Admission 2 \\nสมัครได้ที่ www.tse-admission.engr.tu.ac.th\\nรอบ TCAS 1.2 Portfolio สมัครได้ที่ www.tuadmissions.in.th\\nรอบ TCAS 3 Admission สมัครได้ที่ student.mytcas.com\\t     \\t',\n",
       "  'TEPE': 'รอบ Inter Portfolio 1 \\nรอบ Inter Program Admission 1\\nรอบ Inter Program Admission 2 \\nสมัครได้ที่ www.tse-admission.engr.tu.ac.th\\nรอบ TCAS 1.2 Portfolio สมัครได้ที่ www.tuadmissions.in.th\\nรอบ TCAS 3 Admission สมัครได้ที่ student.mytcas.com\\t     \\t',\n",
       "  'Unnamed: 3': None},\n",
       " 'ค่าเทอม': {'TEP': 'สามารถดูรายละเอียดค่าเทอมได้ที่ https://tep.engr.tu.ac.th/admission/tuitionfees',\n",
       "  'TEPE': 'สามารถดูรายละเอียดค่าเทอมได้ที่ https://tep.engr.tu.ac.th/admission/tuitionfees',\n",
       "  'Unnamed: 3': None},\n",
       " 'สาขา': {'TEP': 'ช่วงที่ 1 ระยะเวลา 2 ปีแรก ศึกษา ณ คณะวิศวกรรมศาสตร์ มหาวิทยาลัยธรรมศาสตร์ มีสาขาให้เลือกเรียนดังนี้\\n- วิศวกรรมโยธา\\n- วิศวกรรมเครื่องกล\\n- วิศวกรรมไฟฟ้า\\n- วิศวกรรมเคมี\\n- วิศวกรรมอุตสาหการ\\nช่วงที่ 2 ระยะเวลา 2 ปีหลังเดินทางไปศึกษาต่อ ณ มหาวิทยาลัยคู่สัญญา สามารถเลือกสาขาได้ตามข้อกำหนดของแต่ละมหาวิทยาลัย ดังนี้\\nTEP-NU เลือกสาขาได้ดังนี้\\n1. วิศวกรรมศาสตร์ สาขาวิศวกรรมเคมี\\n2. วิศวกรรมศาสตร์ สาขาวิศวกรรมโยธา\\n3. วิศวกรรมศาสตร์ สาขาวิศวกรรมไฟฟ้าและอิเล็กทรอนิกส์\\n4. วิศวกรรมศาสตร์ สาขาวิศวกรรมไฟฟ้าและคอมพิวเตอร์ (ผู้ที่เลือกสาขาคอมพิวเตอร์จะเรียนที่ไทย 2 ปีแรกในสาขาไฟฟ้า และเลือก 2 ปีหลังเป็น computer ที่ The university of Nottingham)\\n5. วิศวกรรมศาสตร์ สาขาวิศวกรรมอุตสาหการ\\n6. วิศวกรรมศาสตร์ สาขาวิศวกรรมเครื่องกล\\n\\n\\n\\nTEP-UNSW เลือกสาขาได้ดังนี้\\n\\n1. วิศวกรรมศาสตร์ สาขาวิศวกรรมเคมี\\n2. วิศวกรรมศาสตร์ สาขาวิศวกรรมโยธา\\n3. วิศวกรรมศาสตร์ สาขาวิศวกรรมไฟฟ้า\\n4. วิศวกรรมคอมพิวเตอร์ (สำหรับนักศึกษาภาควิชาวิศวกรรมไฟฟ้าของ TSE เท่านั้นจึงจะสามาถเลือกไปเรียนต่อ UNSW ในสาขาคอมพิวเตอร์ได้)\\n5. วิศวกรรมศาสตร์ สาขาวิศวกรรมโทรคมนาคม\\n6. วิศวกรรมศาสตร์ สาขาวิศวกรรมเครื่องกล\\n7. วิศวกรรมศาสตร์ สาขาวิศวกรรมเครื่องกลและอุตสาหการ\\n8. วิศวกรรมศาสตร์ สาขาวิศวกรรมการบินและอวกาศ\\n9. วิศวกรรมศาสตร์ สาขาวิศวกรรมโฟโตวอลเทอิกและพลังงานแสงอาทิตย์ (สำหรับนักศึกษาภาควิชาวิศวกรรมไฟฟ้า หรือ วิศวกรรมเครื่องกลของ TSE เท่านั้นจึงจะสามาถเลือกไปเรียนต่อ UNSW ในสาขานี้ได้)\\n10. วิศวกรรมศาสตร์ สาขาวิศวกรรมพลังงานหมุนเวียน (สำหรับนักศึกษาภาควิชาวิศวกรรมไฟฟ้า หรือ วิศวกรรมเครื่องกลของ TSE เท่านั้นจึงจะสามาถเลือกไปเรียนต่อ UNSW ในสาขานี้ได้)\\n',\n",
       "  'TEPE': 'TEPE มี 5 สาขาด้วยกันคือ\\n- วิศวกรรมโยธา\\n- วิศวกรรมเครื่องกล\\n- วิศวกรรมไฟฟ้า\\n- วิศวกรรมเคมี\\n- วิศวกรรมอุตสาหการ',\n",
       "  'Unnamed: 3': None},\n",
       " 'ทุน': {'TEP': 'หลักสูตร TEP ไม่มีทุนให้ แต่มีส่วนลดค่าเทอม 25% สำหรับนักศึกษาที่เลือกเรียน TEP-NU ค่ะ\\nสามารถดูรายละเอียดทุนเพิ่มเติมได้ที่ https://tep.engr.tu.ac.th/admission/domesticappliances และ https://tep.engr.tu.ac.th/scholarship',\n",
       "  'TEPE': 'มีทุน TEPE ทั้งทุนเต็มจำนวนและทุนแรกเข้า สามารถยื่นคะแนนสมัครมาได้เลยทุกรอบ แล้วกรรมการจะคัดเลือกให้ทุนเองค่ะ ',\n",
       "  'Unnamed: 3': None},\n",
       " 'วุฒิ': {'TEP': 'วศ.บ.วิศวกรรมศาสตรบัณฑิต',\n",
       "  'TEPE': 'วศ.บ.วิศวกรรมศาสตรบัณฑิต',\n",
       "  'Unnamed: 3': None},\n",
       " 'กยศ. ': {'TEP': 'TEP-TEPE สามารถกู้ กยศ. ได้ค่ะ',\n",
       "  'TEPE': 'TEP-TEPE สามารถกู้ กยศ. ได้ค่ะ',\n",
       "  'Unnamed: 3': None}}"
      ]
     },
     "execution_count": 6,
     "metadata": {},
     "output_type": "execute_result"
    }
   ],
   "source": [
    "json_data"
   ]
  },
  {
   "cell_type": "code",
   "execution_count": 8,
   "metadata": {},
   "outputs": [
    {
     "data": {
      "text/plain": [
       "'TEP-TEPE สามารถกู้ กยศ. ได้ค่ะ'"
      ]
     },
     "execution_count": 8,
     "metadata": {},
     "output_type": "execute_result"
    }
   ],
   "source": [
    "json_data['กยศ. ']['TEPE']"
   ]
  },
  {
   "cell_type": "code",
   "execution_count": 2,
   "metadata": {},
   "outputs": [
    {
     "data": {
      "text/plain": [
       "{'recipient_id': '4256431831123766',\n",
       " 'message_id': 'm_VLI5-Rxy0hqJ6YxihjEzye22MMkQjOpW0AReOBW6JuxD4WL4DLl9fnEVsewZPwAwUP_CQVwaTD2FJz2sLUA64g'}"
      ]
     },
     "execution_count": 2,
     "metadata": {},
     "output_type": "execute_result"
    }
   ],
   "source": [
    "from pymessenger.bot import Bot\n",
    "\n",
    "\n",
    "ACCESS_TOKEN = \"EAANZCjCWKluEBAJBXtTgo345UEzerwyG8uL6iTRbVL1DpCWC58EVQMltOM6RQ3Dlee5hKNrXaFrGEwyLX7r39Qy1sXpHMiU4NHFowNGMNVbxkAhImrnREijISKKqCZBowZCurc0zU6wCFx6fvg4FqPKXZCSa9VxQB95DGy3rRcsprFdZC0ImW\"\n",
    "VERIFY_TOKEN = \"TSEchatbot\"\n",
    "bot = Bot(ACCESS_TOKEN)\n",
    "bot.send_text_message(\"4256431831123766\",\"สวัสดี\")\n"
   ]
  },
  {
   "cell_type": "code",
   "execution_count": 14,
   "metadata": {},
   "outputs": [],
   "source": [
    "import pandas as pd \n",
    "import json\n",
    "df3 = pd.read_excel(\"compare_data.xlsx\")\n",
    "df4 = df3.set_index('เปรียบเทียบ')\n",
    "json_str = df4.to_json(orient='index',force_ascii=False)\n",
    "json_compare = json.loads(json_str)"
   ]
  },
  {
   "cell_type": "code",
   "execution_count": 16,
   "metadata": {},
   "outputs": [
    {
     "data": {
      "text/plain": [
       "'ต่างกันที่\\n1. ภาคปกติจะได้รับเงินสนับสนุนจากภาครัฐ ส่วนโครงการพิเศษจะเป็นเงินจากคณะฯ ในบริหารจัดการเอง\\n2. ค่าเทอม - ค่าเทอมภาคปกติ 18,200 บาทต่อเทอมแบบเหมาจ่าย / ค่าเทอม TEP-TEP https://tep.engr.tu.ac.th/admission/tuitionfees  \\nค่าเทอม TU-PINE https://tupine.engr.tu.ac.th/admission/tuitionfees\\n3. หลักสูตร - โครงสร้างหลักสูตร มีบางรายวิชาต่างกัน\\nสิ่งที่เหมือน คือ การเรียนจะเรียนในวันธรรมดา จันทร์ถึงศุกร์ ในเวลาราชการ ที่มธ.ศูนย์รังสิต'"
      ]
     },
     "execution_count": 16,
     "metadata": {},
     "output_type": "execute_result"
    }
   ],
   "source": [
    "json_compare['TEP']['ภาคปกติ']"
   ]
  },
  {
   "cell_type": "code",
   "execution_count": 22,
   "metadata": {},
   "outputs": [
    {
     "data": {
      "text/plain": [
       "'หกฟหก'"
      ]
     },
     "execution_count": 22,
     "metadata": {},
     "output_type": "execute_result"
    }
   ],
   "source": [
    "a = \"หกฟหก\"\n",
    "a.upper()"
   ]
  }
 ],
 "metadata": {
  "interpreter": {
   "hash": "d84aa64f0a3c966ba3fd06b02c032d94d8bd98a27332dc6995cec2eda48b849c"
  },
  "kernelspec": {
   "display_name": "Python 3.8.6 64-bit ('tfm1': conda)",
   "name": "python3"
  },
  "language_info": {
   "codemirror_mode": {
    "name": "ipython",
    "version": 3
   },
   "file_extension": ".py",
   "mimetype": "text/x-python",
   "name": "python",
   "nbconvert_exporter": "python",
   "pygments_lexer": "ipython3",
   "version": "3.8.6"
  },
  "orig_nbformat": 4
 },
 "nbformat": 4,
 "nbformat_minor": 2
}
