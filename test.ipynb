{
 "cells": [
  {
   "cell_type": "code",
   "execution_count": 67,
   "metadata": {},
   "outputs": [],
   "source": [
    "import pandas as pd \n",
    "import json\n",
    "df = pd.read_excel(\"tep_tepe.xlsx\")"
   ]
  },
  {
   "cell_type": "code",
   "execution_count": 68,
   "metadata": {},
   "outputs": [],
   "source": [
    "df2 = df.set_index('คำถาม')\n",
    "json_str = df2.to_json(orient='index',force_ascii=False)\n",
    "json_data = json.loads(json_str)"
   ]
  },
  {
   "cell_type": "code",
   "execution_count": 74,
   "metadata": {},
   "outputs": [
    {
     "data": {
      "text/plain": [
       "'รอบ TCAS 1.2 Portfolio \\t     \\t\\tTEP 30 คน \\tTEPE 15 คน\\nรอบ Inter Program Admission 1\\t\\tTEP 30 คน\\tTEPE 20 คน\\nรอบ TCAS 3 Admission\\t\\t\\tTEP 30 คน\\tTEPE 20 คน    \\nรอบ Inter Program Admission 2\\t\\tTEP 12 คน\\tTEPE 5 คน'"
      ]
     },
     "execution_count": 74,
     "metadata": {},
     "output_type": "execute_result"
    }
   ],
   "source": [
    "json_data['รับกี่คน']['TEP']"
   ]
  },
  {
   "cell_type": "code",
   "execution_count": 70,
   "metadata": {},
   "outputs": [
    {
     "data": {
      "text/html": [
       "<div>\n",
       "<style scoped>\n",
       "    .dataframe tbody tr th:only-of-type {\n",
       "        vertical-align: middle;\n",
       "    }\n",
       "\n",
       "    .dataframe tbody tr th {\n",
       "        vertical-align: top;\n",
       "    }\n",
       "\n",
       "    .dataframe thead th {\n",
       "        text-align: right;\n",
       "    }\n",
       "</style>\n",
       "<table border=\"1\" class=\"dataframe\">\n",
       "  <thead>\n",
       "    <tr style=\"text-align: right;\">\n",
       "      <th></th>\n",
       "      <th>คำถาม</th>\n",
       "      <th>TEP</th>\n",
       "      <th>TEPE</th>\n",
       "    </tr>\n",
       "  </thead>\n",
       "  <tbody>\n",
       "    <tr>\n",
       "      <th>0</th>\n",
       "      <td>คืออะไร</td>\n",
       "      <td>TEP หรือ Twinning Engineering Program จัดการเร...</td>\n",
       "      <td>TEPE หรือ Thammasat English Program of Enginee...</td>\n",
       "    </tr>\n",
       "    <tr>\n",
       "      <th>1</th>\n",
       "      <td>รับสมัคร</td>\n",
       "      <td>เปิดรับสมัคร 4 รอบ\\nรอบ TCAS 1.2 Portfolio \\t ...</td>\n",
       "      <td>เปิดรับสมัคร 4 รอบ\\nรอบ TCAS 1.2 Portfolio \\t ...</td>\n",
       "    </tr>\n",
       "    <tr>\n",
       "      <th>2</th>\n",
       "      <td>รับกี่คน</td>\n",
       "      <td>รอบ TCAS 1.2 Portfolio \\t     \\t\\tTEP 30 คน \\t...</td>\n",
       "      <td>รอบ TCAS 1.2 Portfolio \\t     \\t\\tTEP 30 คน \\t...</td>\n",
       "    </tr>\n",
       "    <tr>\n",
       "      <th>3</th>\n",
       "      <td>คะแนน</td>\n",
       "      <td>การสมัครจะเลือกได้ทั้งหมด 3 Tracks ดังนี้ (เลื...</td>\n",
       "      <td>การสมัครจะเลือกได้ทั้งหมด 3 Tracks ดังนี้ (เลื...</td>\n",
       "    </tr>\n",
       "    <tr>\n",
       "      <th>4</th>\n",
       "      <td>ปวช/ปวส</td>\n",
       "      <td>รับวุฒิ ปวช. โดยสมัครได้ในรอบ Inter Admission ...</td>\n",
       "      <td>รับวุฒิ ปวช. โดยสมัครได้ในรอบ Inter Admission ...</td>\n",
       "    </tr>\n",
       "  </tbody>\n",
       "</table>\n",
       "</div>"
      ],
      "text/plain": [
       "      คำถาม                                                TEP  \\\n",
       "0   คืออะไร  TEP หรือ Twinning Engineering Program จัดการเร...   \n",
       "1  รับสมัคร  เปิดรับสมัคร 4 รอบ\\nรอบ TCAS 1.2 Portfolio \\t ...   \n",
       "2  รับกี่คน  รอบ TCAS 1.2 Portfolio \\t     \\t\\tTEP 30 คน \\t...   \n",
       "3     คะแนน  การสมัครจะเลือกได้ทั้งหมด 3 Tracks ดังนี้ (เลื...   \n",
       "4   ปวช/ปวส  รับวุฒิ ปวช. โดยสมัครได้ในรอบ Inter Admission ...   \n",
       "\n",
       "                                                TEPE  \n",
       "0  TEPE หรือ Thammasat English Program of Enginee...  \n",
       "1  เปิดรับสมัคร 4 รอบ\\nรอบ TCAS 1.2 Portfolio \\t ...  \n",
       "2  รอบ TCAS 1.2 Portfolio \\t     \\t\\tTEP 30 คน \\t...  \n",
       "3  การสมัครจะเลือกได้ทั้งหมด 3 Tracks ดังนี้ (เลื...  \n",
       "4  รับวุฒิ ปวช. โดยสมัครได้ในรอบ Inter Admission ...  "
      ]
     },
     "execution_count": 70,
     "metadata": {},
     "output_type": "execute_result"
    }
   ],
   "source": [
    "df"
   ]
  }
 ],
 "metadata": {
  "interpreter": {
   "hash": "d84aa64f0a3c966ba3fd06b02c032d94d8bd98a27332dc6995cec2eda48b849c"
  },
  "kernelspec": {
   "display_name": "Python 3.8.6 64-bit ('tfm1': conda)",
   "language": "python",
   "name": "python3"
  },
  "language_info": {
   "codemirror_mode": {
    "name": "ipython",
    "version": 3
   },
   "file_extension": ".py",
   "mimetype": "text/x-python",
   "name": "python",
   "nbconvert_exporter": "python",
   "pygments_lexer": "ipython3",
   "version": "3.8.6"
  },
  "orig_nbformat": 4
 },
 "nbformat": 4,
 "nbformat_minor": 2
}
